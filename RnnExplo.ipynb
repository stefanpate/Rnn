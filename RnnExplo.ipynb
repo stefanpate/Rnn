{
 "cells": [
  {
   "cell_type": "code",
   "execution_count": 1,
   "metadata": {},
   "outputs": [],
   "source": [
    "# What's an RNN. By Stefan\n",
    "\n",
    "# Basic math FF, Rnn\n",
    "\n",
    "# Show 1-in-1-out one layer perceptron as weighted functions - change activation\n",
    "# fcns for illustration\n",
    "\n",
    "# Dynamics\n",
    "\n",
    "# FF is boring, just gives output given some input, good fcn approximator\n",
    "# When you take away input, goes silent - sine wave demo\n",
    "\n",
    "# RNN is a little more interesting, can carry out time-varying fcns without\n",
    "# input, like when we do when we move - sine wave demo\n",
    "\n",
    "# There's clearly a lot of potential here. How can we get it to do something useful?\n",
    "# This is a big topic, it's called learning, just like in animals\n",
    "# With the NNs, the basic idea is you have a bunch of neurons working together, \n",
    "# Trying to achieve the goal, when something goes wrong, you need to figure out\n",
    "# Who to fix, and when something goes right, who contributed, and should stay the same\n",
    "# This is another big topic called credit assignment\n",
    "\n",
    "# Side by side drawing + dynamics animation"
   ]
  },
  {
   "cell_type": "code",
   "execution_count": 5,
   "metadata": {},
   "outputs": [],
   "source": [
    "import numpy as np\n",
    "import matplotlib.pyplot as plt\n",
    "import os\n",
    "import seaborn as sns\n",
    "from matplotlib import animation"
   ]
  },
  {
   "cell_type": "code",
   "execution_count": 19,
   "metadata": {},
   "outputs": [
    {
     "data": {
      "image/png": "[encoded data removed]",
      "text/plain": [
       "<Figure size 432x288 with 2 Axes>"
      ]
     },
     "metadata": {
      "needs_background": "light"
     },
     "output_type": "display_data"
    }
   ],
   "source": [
    "# Make random ff net\n",
    "n_units = 25\n",
    "n_inputs = 1\n",
    "w_in = np.random.normal(size=(n_units,n_inputs))\n",
    "\n",
    "start = np.zeros((1, 20))\n",
    "end = np.zeros((1, 30))\n",
    "t = np.linspace(0, 2 * np.pi * 4, 50)\n",
    "sine = np.sin(t).reshape(1, -1)\n",
    "input = np.concatenate([start, sine, end], axis=1)\n",
    "\n",
    "xs = np.matmul(w_in, input)\n",
    "rs = np.tanh(xs)\n",
    "\n",
    "fig = plt.figure()\n",
    "data_for_plot = rs.reshape(5, 5, -1)\n",
    "sns.heatmap(np.random.rand(5,5), vmax=0.8)\n",
    "\n",
    "def init():\n",
    "    sns.heatmap(np.zeros((5,5)), vmax=0.8, cbar=False)\n",
    "\n",
    "def animate(i):\n",
    "    data = data_for_plot[:,:,i]\n",
    "    # data = np.random.rand(5, 5)\n",
    "    sns.heatmap(data, vmax=0.8, cbar=False)\n",
    "\n",
    "anim = animation.FuncAnimation(fig, animate, init_func=init, frames=100, repeat=False)\n",
    "plt.show()\n",
    "\n"
   ]
  }
 ],
 "metadata": {
  "interpreter": {
   "hash": "20fd568b323cd58ca5fa85a75b4e5591d256d499d7cf01b5702d78c9b6116592"
  },
  "kernelspec": {
   "display_name": "Python 3.6.15 64-bit ('rnn': conda)",
   "language": "python",
   "name": "python3"
  },
  "language_info": {
   "codemirror_mode": {
    "name": "ipython",
    "version": 3
   },
   "file_extension": ".py",
   "mimetype": "text/x-python",
   "name": "python",
   "nbconvert_exporter": "python",
   "pygments_lexer": "ipython3",
   "version": "3.8.3"
  },
  "orig_nbformat": 4
 },
 "nbformat": 4,
 "nbformat_minor": 2
}
